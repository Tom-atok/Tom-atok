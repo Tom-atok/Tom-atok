{
  "nbformat": 4,
  "nbformat_minor": 0,
  "metadata": {
    "colab": {
      "provenance": [],
      "toc_visible": true,
      "gpuType": "T4",
      "authorship_tag": "ABX9TyMu8zF3hsANqm/8nyqVmNQP",
      "include_colab_link": true
    },
    "kernelspec": {
      "name": "python3",
      "display_name": "Python 3"
    },
    "language_info": {
      "name": "python"
    },
    "accelerator": "GPU"
  },
  "cells": [
    {
      "cell_type": "markdown",
      "metadata": {
        "id": "view-in-github",
        "colab_type": "text"
      },
      "source": [
        "<a href=\"https://colab.research.google.com/github/Tom-atok/Tom-atok/blob/master/colab_notebooks/Speech2Text_kotoba.ipynb\" target=\"_parent\"><img src=\"https://colab.research.google.com/assets/colab-badge.svg\" alt=\"Open In Colab\"/></a>"
      ]
    },
    {
      "cell_type": "markdown",
      "source": [
        "# 日本語音声書き起こし用Notebook\n",
        "\n",
        "このノートブックは、日本語の音声を書き起こすために設計されており、Hugging Faceで提供されている[Kotoba Whisper](https://huggingface.co/kotoba-tech/kotoba-whisper-v1.0)を使用しています。シンプルでミニマムな構成になっており、音声データのアップロードから書き起こしまで、このノートブック内で全ての処理が完結するように設計されています。\n",
        "\n",
        "## 事前準備\n",
        "\n",
        "1. **Hugging Faceのトークン取得**: Kotoba Whisperを使用するために、Hugging Faceのアカウントを作成し、APIトークンを取得します。\n",
        "2. **トークンの登録**: Google Colaboratoryのシークレット機能を使用して、取得したHugging Faceのトークンをノートブックで利用できるように設定します。\n",
        "3. **ランタイム設定**: より高速な処理を行うため、Google ColaboratoryのランタイムをGPUに変更してください。上部メニューの「ランタイム」 > 「ランタイムのタイプを変更」から、ハードウェアアクセラレータとして「GPU」を選択します。\n",
        "\n",
        "## 処理の流れ\n",
        "\n",
        "1. **ライブラリのインストール**: 必要なライブラリ（Hugging Face関連ライブラリやKotoba Whisper用ライブラリ）をインストールします。\n",
        "2. **ファイルのアップロード**: 書き起こし対象となる音声ファイルをアップロードします。\n",
        "3. **モデルの構築**: Kotoba Whisperモデルをロードして準備します。\n",
        "4. **モデルの実行**: アップロードした音声ファイルを使用して書き起こしを実行し、結果を出力します。\n",
        "\n",
        "\n",
        "## 発展編\n",
        "- google driveと接続して、特定のフォルダを全部文字起こしすることもできます。\n",
        "  - [準備中]()"
      ],
      "metadata": {
        "id": "TKKxm6ZFgT3E"
      }
    },
    {
      "cell_type": "markdown",
      "source": [
        "## ライブラリをインストールする"
      ],
      "metadata": {
        "id": "rFI5gLqzY-jK"
      }
    },
    {
      "cell_type": "code",
      "execution_count": 31,
      "metadata": {
        "colab": {
          "base_uri": "https://localhost:8080/"
        },
        "id": "-EUOb6SdYLXh",
        "outputId": "da4cd1a7-123f-4e2a-f075-9f74c6568eb3"
      },
      "outputs": [
        {
          "output_type": "stream",
          "name": "stdout",
          "text": [
            "Requirement already satisfied: pip in /usr/local/lib/python3.10/dist-packages (24.2)\n",
            "Requirement already satisfied: transformers in /usr/local/lib/python3.10/dist-packages (4.45.2)\n",
            "Requirement already satisfied: accelerate in /usr/local/lib/python3.10/dist-packages (1.0.0)\n",
            "Requirement already satisfied: filelock in /usr/local/lib/python3.10/dist-packages (from transformers) (3.16.1)\n",
            "Requirement already satisfied: huggingface-hub<1.0,>=0.23.2 in /usr/local/lib/python3.10/dist-packages (from transformers) (0.24.7)\n",
            "Requirement already satisfied: numpy>=1.17 in /usr/local/lib/python3.10/dist-packages (from transformers) (1.26.4)\n",
            "Requirement already satisfied: packaging>=20.0 in /usr/local/lib/python3.10/dist-packages (from transformers) (24.1)\n",
            "Requirement already satisfied: pyyaml>=5.1 in /usr/local/lib/python3.10/dist-packages (from transformers) (6.0.2)\n",
            "Requirement already satisfied: regex!=2019.12.17 in /usr/local/lib/python3.10/dist-packages (from transformers) (2024.9.11)\n",
            "Requirement already satisfied: requests in /usr/local/lib/python3.10/dist-packages (from transformers) (2.32.3)\n",
            "Requirement already satisfied: safetensors>=0.4.1 in /usr/local/lib/python3.10/dist-packages (from transformers) (0.4.5)\n",
            "Requirement already satisfied: tokenizers<0.21,>=0.20 in /usr/local/lib/python3.10/dist-packages (from transformers) (0.20.0)\n",
            "Requirement already satisfied: tqdm>=4.27 in /usr/local/lib/python3.10/dist-packages (from transformers) (4.66.5)\n",
            "Requirement already satisfied: psutil in /usr/local/lib/python3.10/dist-packages (from accelerate) (5.9.5)\n",
            "Requirement already satisfied: torch>=1.10.0 in /usr/local/lib/python3.10/dist-packages (from accelerate) (2.4.1+cu121)\n",
            "Requirement already satisfied: fsspec>=2023.5.0 in /usr/local/lib/python3.10/dist-packages (from huggingface-hub<1.0,>=0.23.2->transformers) (2024.6.1)\n",
            "Requirement already satisfied: typing-extensions>=3.7.4.3 in /usr/local/lib/python3.10/dist-packages (from huggingface-hub<1.0,>=0.23.2->transformers) (4.12.2)\n",
            "Requirement already satisfied: sympy in /usr/local/lib/python3.10/dist-packages (from torch>=1.10.0->accelerate) (1.13.3)\n",
            "Requirement already satisfied: networkx in /usr/local/lib/python3.10/dist-packages (from torch>=1.10.0->accelerate) (3.3)\n",
            "Requirement already satisfied: jinja2 in /usr/local/lib/python3.10/dist-packages (from torch>=1.10.0->accelerate) (3.1.4)\n",
            "Requirement already satisfied: charset-normalizer<4,>=2 in /usr/local/lib/python3.10/dist-packages (from requests->transformers) (3.3.2)\n",
            "Requirement already satisfied: idna<4,>=2.5 in /usr/local/lib/python3.10/dist-packages (from requests->transformers) (3.10)\n",
            "Requirement already satisfied: urllib3<3,>=1.21.1 in /usr/local/lib/python3.10/dist-packages (from requests->transformers) (2.2.3)\n",
            "Requirement already satisfied: certifi>=2017.4.17 in /usr/local/lib/python3.10/dist-packages (from requests->transformers) (2024.8.30)\n",
            "Requirement already satisfied: MarkupSafe>=2.0 in /usr/local/lib/python3.10/dist-packages (from jinja2->torch>=1.10.0->accelerate) (2.1.5)\n",
            "Requirement already satisfied: mpmath<1.4,>=1.1.0 in /usr/local/lib/python3.10/dist-packages (from sympy->torch>=1.10.0->accelerate) (1.3.0)\n"
          ]
        }
      ],
      "source": [
        "!pip install --upgrade pip\n",
        "!pip install --upgrade transformers accelerate"
      ]
    },
    {
      "cell_type": "code",
      "source": [
        "import os\n",
        "import torch\n",
        "from google.colab import files\n",
        "from pydub import AudioSegment\n",
        "from pathlib import Path\n",
        "from transformers import pipeline\n"
      ],
      "metadata": {
        "id": "4NCk-GFzaUc8"
      },
      "execution_count": 32,
      "outputs": []
    },
    {
      "cell_type": "markdown",
      "source": [
        "## ファイルの準備"
      ],
      "metadata": {
        "id": "D-n6u7DMZA2i"
      }
    },
    {
      "cell_type": "markdown",
      "source": [
        "### ファイルをアップロードする"
      ],
      "metadata": {
        "id": "6yYV9ccNjEz9"
      }
    },
    {
      "cell_type": "code",
      "source": [
        "# ファイルをアップロードする\n",
        "uploaded = files.upload()"
      ],
      "metadata": {
        "id": "_BBBwYd2jEZ7"
      },
      "execution_count": null,
      "outputs": []
    },
    {
      "cell_type": "markdown",
      "source": [
        "### ファイルのパスを取得し，データの形式を整える"
      ],
      "metadata": {
        "id": "Q2PZLDHsjInH"
      }
    },
    {
      "cell_type": "code",
      "source": [
        "# アップロードされたファイルの名前を取得\n",
        "for filename in uploaded.keys():\n",
        "    file_name_without_extension = os.path.splitext(filename)[0]\n",
        "    # フルパスを作成（Colabのカレントディレクトリは'/content'です）\n",
        "    file_path = os.path.join('/content', filename)\n",
        "    print(f\"Uploaded file is saved at: {file_path}\")\n",
        "\n",
        "# ファイルをの形式をwav形式に変更する\n",
        "if not Path(file_path).suffix == \".wav\":\n",
        "    #ファイルの形式を任意のものからwav形式に変更する\n",
        "    audio = AudioSegment.from_file(file_path)\n",
        "    wav_path = f\"/content/{file_name}.wav\"\n",
        "    audio.export(wav_path, format = \"wav\")"
      ],
      "metadata": {
        "colab": {
          "base_uri": "https://localhost:8080/",
          "height": 108
        },
        "id": "X49CpwD9YzT4",
        "outputId": "3a9d6590-9d3e-484e-c3b1-c71dbf193969"
      },
      "execution_count": 34,
      "outputs": [
        {
          "output_type": "display_data",
          "data": {
            "text/plain": [
              "<IPython.core.display.HTML object>"
            ],
            "text/html": [
              "\n",
              "     <input type=\"file\" id=\"files-0a2a3736-9711-458d-9141-c9631e2d914e\" name=\"files[]\" multiple disabled\n",
              "        style=\"border:none\" />\n",
              "     <output id=\"result-0a2a3736-9711-458d-9141-c9631e2d914e\">\n",
              "      Upload widget is only available when the cell has been executed in the\n",
              "      current browser session. Please rerun this cell to enable.\n",
              "      </output>\n",
              "      <script>// Copyright 2017 Google LLC\n",
              "//\n",
              "// Licensed under the Apache License, Version 2.0 (the \"License\");\n",
              "// you may not use this file except in compliance with the License.\n",
              "// You may obtain a copy of the License at\n",
              "//\n",
              "//      http://www.apache.org/licenses/LICENSE-2.0\n",
              "//\n",
              "// Unless required by applicable law or agreed to in writing, software\n",
              "// distributed under the License is distributed on an \"AS IS\" BASIS,\n",
              "// WITHOUT WARRANTIES OR CONDITIONS OF ANY KIND, either express or implied.\n",
              "// See the License for the specific language governing permissions and\n",
              "// limitations under the License.\n",
              "\n",
              "/**\n",
              " * @fileoverview Helpers for google.colab Python module.\n",
              " */\n",
              "(function(scope) {\n",
              "function span(text, styleAttributes = {}) {\n",
              "  const element = document.createElement('span');\n",
              "  element.textContent = text;\n",
              "  for (const key of Object.keys(styleAttributes)) {\n",
              "    element.style[key] = styleAttributes[key];\n",
              "  }\n",
              "  return element;\n",
              "}\n",
              "\n",
              "// Max number of bytes which will be uploaded at a time.\n",
              "const MAX_PAYLOAD_SIZE = 100 * 1024;\n",
              "\n",
              "function _uploadFiles(inputId, outputId) {\n",
              "  const steps = uploadFilesStep(inputId, outputId);\n",
              "  const outputElement = document.getElementById(outputId);\n",
              "  // Cache steps on the outputElement to make it available for the next call\n",
              "  // to uploadFilesContinue from Python.\n",
              "  outputElement.steps = steps;\n",
              "\n",
              "  return _uploadFilesContinue(outputId);\n",
              "}\n",
              "\n",
              "// This is roughly an async generator (not supported in the browser yet),\n",
              "// where there are multiple asynchronous steps and the Python side is going\n",
              "// to poll for completion of each step.\n",
              "// This uses a Promise to block the python side on completion of each step,\n",
              "// then passes the result of the previous step as the input to the next step.\n",
              "function _uploadFilesContinue(outputId) {\n",
              "  const outputElement = document.getElementById(outputId);\n",
              "  const steps = outputElement.steps;\n",
              "\n",
              "  const next = steps.next(outputElement.lastPromiseValue);\n",
              "  return Promise.resolve(next.value.promise).then((value) => {\n",
              "    // Cache the last promise value to make it available to the next\n",
              "    // step of the generator.\n",
              "    outputElement.lastPromiseValue = value;\n",
              "    return next.value.response;\n",
              "  });\n",
              "}\n",
              "\n",
              "/**\n",
              " * Generator function which is called between each async step of the upload\n",
              " * process.\n",
              " * @param {string} inputId Element ID of the input file picker element.\n",
              " * @param {string} outputId Element ID of the output display.\n",
              " * @return {!Iterable<!Object>} Iterable of next steps.\n",
              " */\n",
              "function* uploadFilesStep(inputId, outputId) {\n",
              "  const inputElement = document.getElementById(inputId);\n",
              "  inputElement.disabled = false;\n",
              "\n",
              "  const outputElement = document.getElementById(outputId);\n",
              "  outputElement.innerHTML = '';\n",
              "\n",
              "  const pickedPromise = new Promise((resolve) => {\n",
              "    inputElement.addEventListener('change', (e) => {\n",
              "      resolve(e.target.files);\n",
              "    });\n",
              "  });\n",
              "\n",
              "  const cancel = document.createElement('button');\n",
              "  inputElement.parentElement.appendChild(cancel);\n",
              "  cancel.textContent = 'Cancel upload';\n",
              "  const cancelPromise = new Promise((resolve) => {\n",
              "    cancel.onclick = () => {\n",
              "      resolve(null);\n",
              "    };\n",
              "  });\n",
              "\n",
              "  // Wait for the user to pick the files.\n",
              "  const files = yield {\n",
              "    promise: Promise.race([pickedPromise, cancelPromise]),\n",
              "    response: {\n",
              "      action: 'starting',\n",
              "    }\n",
              "  };\n",
              "\n",
              "  cancel.remove();\n",
              "\n",
              "  // Disable the input element since further picks are not allowed.\n",
              "  inputElement.disabled = true;\n",
              "\n",
              "  if (!files) {\n",
              "    return {\n",
              "      response: {\n",
              "        action: 'complete',\n",
              "      }\n",
              "    };\n",
              "  }\n",
              "\n",
              "  for (const file of files) {\n",
              "    const li = document.createElement('li');\n",
              "    li.append(span(file.name, {fontWeight: 'bold'}));\n",
              "    li.append(span(\n",
              "        `(${file.type || 'n/a'}) - ${file.size} bytes, ` +\n",
              "        `last modified: ${\n",
              "            file.lastModifiedDate ? file.lastModifiedDate.toLocaleDateString() :\n",
              "                                    'n/a'} - `));\n",
              "    const percent = span('0% done');\n",
              "    li.appendChild(percent);\n",
              "\n",
              "    outputElement.appendChild(li);\n",
              "\n",
              "    const fileDataPromise = new Promise((resolve) => {\n",
              "      const reader = new FileReader();\n",
              "      reader.onload = (e) => {\n",
              "        resolve(e.target.result);\n",
              "      };\n",
              "      reader.readAsArrayBuffer(file);\n",
              "    });\n",
              "    // Wait for the data to be ready.\n",
              "    let fileData = yield {\n",
              "      promise: fileDataPromise,\n",
              "      response: {\n",
              "        action: 'continue',\n",
              "      }\n",
              "    };\n",
              "\n",
              "    // Use a chunked sending to avoid message size limits. See b/62115660.\n",
              "    let position = 0;\n",
              "    do {\n",
              "      const length = Math.min(fileData.byteLength - position, MAX_PAYLOAD_SIZE);\n",
              "      const chunk = new Uint8Array(fileData, position, length);\n",
              "      position += length;\n",
              "\n",
              "      const base64 = btoa(String.fromCharCode.apply(null, chunk));\n",
              "      yield {\n",
              "        response: {\n",
              "          action: 'append',\n",
              "          file: file.name,\n",
              "          data: base64,\n",
              "        },\n",
              "      };\n",
              "\n",
              "      let percentDone = fileData.byteLength === 0 ?\n",
              "          100 :\n",
              "          Math.round((position / fileData.byteLength) * 100);\n",
              "      percent.textContent = `${percentDone}% done`;\n",
              "\n",
              "    } while (position < fileData.byteLength);\n",
              "  }\n",
              "\n",
              "  // All done.\n",
              "  yield {\n",
              "    response: {\n",
              "      action: 'complete',\n",
              "    }\n",
              "  };\n",
              "}\n",
              "\n",
              "scope.google = scope.google || {};\n",
              "scope.google.colab = scope.google.colab || {};\n",
              "scope.google.colab._files = {\n",
              "  _uploadFiles,\n",
              "  _uploadFilesContinue,\n",
              "};\n",
              "})(self);\n",
              "</script> "
            ]
          },
          "metadata": {}
        },
        {
          "output_type": "stream",
          "name": "stdout",
          "text": [
            "Saving sample_interview.WMA to sample_interview.WMA\n",
            "Uploaded file is saved at: /content/sample_interview.WMA\n"
          ]
        }
      ]
    },
    {
      "cell_type": "code",
      "source": [
        "# ファイルをの形式をwav形式に変更する\n",
        "if not Path(file_path).suffix == \".wav\":\n",
        "    #ファイルの形式を任意のものからwav形式に変更する\n",
        "    audio = AudioSegment.from_file(file_path)\n",
        "    wav_path = f\"/content/{file_name}.wav\"\n",
        "    audio.export(wav_path, format = \"wav\")"
      ],
      "metadata": {
        "id": "sOLZqc50ZY9D"
      },
      "execution_count": 38,
      "outputs": []
    },
    {
      "cell_type": "markdown",
      "source": [
        "## 書き起こし"
      ],
      "metadata": {
        "id": "XZgM9Wvhc7zx"
      }
    },
    {
      "cell_type": "markdown",
      "source": [
        "### モデル構築\n",
        "Huggin_Faceのトークンを登録していないとここでエラーが出る"
      ],
      "metadata": {
        "id": "tALBPam3dkLV"
      }
    },
    {
      "cell_type": "code",
      "source": [
        "# config\n",
        "model_id = \"kotoba-tech/kotoba-whisper-v1.0\"\n",
        "torch_dtype = torch.bfloat16 if torch.cuda.is_available() else torch.float32\n",
        "device = \"cuda:0\" if torch.cuda.is_available() else \"cpu\"\n",
        "model_kwargs = {\"attn_implementation\": \"sdpa\"} if torch.cuda.is_available() else {}\n",
        "generate_kwargs = {\"language\": \"ja\", \"task\": \"transcribe\"}\n",
        "\n",
        "# load model\n",
        "pipe = pipeline(\n",
        "    \"automatic-speech-recognition\",\n",
        "    model=model_id,\n",
        "    torch_dtype=torch_dtype,\n",
        "    device=device,\n",
        "    model_kwargs=model_kwargs\n",
        ")"
      ],
      "metadata": {
        "id": "o8wCCQfwc2mt"
      },
      "execution_count": 39,
      "outputs": []
    },
    {
      "cell_type": "markdown",
      "source": [
        "### モデルの実行"
      ],
      "metadata": {
        "id": "b-bQEEMii4TK"
      }
    },
    {
      "cell_type": "code",
      "source": [
        "result = pipe(wav_path,return_timestamps=True, generate_kwargs=generate_kwargs)\n",
        "print(result[\"text\"])"
      ],
      "metadata": {
        "colab": {
          "base_uri": "https://localhost:8080/"
        },
        "id": "APrpBS3mdBdJ",
        "outputId": "ddd3ffde-4b86-436f-9f85-c4a319b7b1e9"
      },
      "execution_count": null,
      "outputs": [
        {
          "output_type": "stream",
          "name": "stderr",
          "text": [
            "/usr/local/lib/python3.10/dist-packages/transformers/models/whisper/generation_whisper.py:496: FutureWarning: The input name `inputs` is deprecated. Please make sure to use `input_features` instead.\n",
            "  warnings.warn(\n"
          ]
        }
      ]
    },
    {
      "cell_type": "markdown",
      "source": [
        "## データを保存する"
      ],
      "metadata": {
        "id": "ftGgEVTyfEfp"
      }
    },
    {
      "cell_type": "code",
      "source": [
        "#outputフォルダにtxt形式で保存\n",
        "path_output = f'/content/{file_name_without_extension}.txt'\n",
        "with open(path_output, 'w') as f:\n",
        "  f.write(result[\"text\"])"
      ],
      "metadata": {
        "id": "tLYBX35XdyFt"
      },
      "execution_count": null,
      "outputs": []
    }
  ]
}