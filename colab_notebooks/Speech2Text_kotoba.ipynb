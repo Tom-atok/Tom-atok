{
  "nbformat": 4,
  "nbformat_minor": 0,
  "metadata": {
    "colab": {
      "private_outputs": true,
      "provenance": [],
      "toc_visible": true,
      "gpuType": "T4",
      "authorship_tag": "ABX9TyMu8zF3hsANqm/8nyqVmNQP",
      "include_colab_link": true
    },
    "kernelspec": {
      "name": "python3",
      "display_name": "Python 3"
    },
    "language_info": {
      "name": "python"
    },
    "accelerator": "GPU"
  },
  "cells": [
    {
      "cell_type": "markdown",
      "metadata": {
        "id": "view-in-github",
        "colab_type": "text"
      },
      "source": [
        "<a href=\"https://colab.research.google.com/github/Tom-atok/Tom-atok/blob/master/colab_notebooks/Speech2Text_kotoba.ipynb\" target=\"_parent\"><img src=\"https://colab.research.google.com/assets/colab-badge.svg\" alt=\"Open In Colab\"/></a>"
      ]
    },
    {
      "cell_type": "markdown",
      "source": [
        "# 日本語音声書き起こし用Notebook\n",
        "\n",
        "このノートブックは、日本語の音声を書き起こすために設計されており、Hugging Faceで提供されている[Kotoba Whisper](https://huggingface.co/kotoba-tech/kotoba-whisper-v1.0)を使用しています。シンプルでミニマムな構成になっており、音声データのアップロードから書き起こしまで、このノートブック内で全ての処理が完結するように設計されています。\n",
        "\n",
        "## 事前準備\n",
        "\n",
        "1. **Hugging Faceのトークン取得**: Kotoba Whisperを使用するために、Hugging Faceのアカウントを作成し、APIトークンを取得します。\n",
        "2. **トークンの登録**: Google Colaboratoryのシークレット機能を使用して、取得したHugging Faceのトークンをノートブックで利用できるように設定します。\n",
        "3. **ランタイム設定**: より高速な処理を行うため、Google ColaboratoryのランタイムをGPUに変更してください。上部メニューの「ランタイム」 > 「ランタイムのタイプを変更」から、ハードウェアアクセラレータとして「GPU」を選択します。\n",
        "\n",
        "## 処理の流れ\n",
        "\n",
        "1. **ライブラリのインストール**: 必要なライブラリ（Hugging Face関連ライブラリやKotoba Whisper用ライブラリ）をインストールします。\n",
        "2. **ファイルのアップロード**: 書き起こし対象となる音声ファイルをアップロードします。\n",
        "3. **モデルの構築**: Kotoba Whisperモデルをロードして準備します。\n",
        "4. **モデルの実行**: アップロードした音声ファイルを使用して書き起こしを実行し、結果を出力します。\n",
        "\n",
        "\n",
        "## 発展編\n",
        "- google driveと接続して、特定のフォルダを全部文字起こしすることもできます。\n",
        "  - [準備中]()"
      ],
      "metadata": {
        "id": "TKKxm6ZFgT3E"
      }
    },
    {
      "cell_type": "markdown",
      "source": [
        "## ライブラリをインストールする"
      ],
      "metadata": {
        "id": "rFI5gLqzY-jK"
      }
    },
    {
      "cell_type": "code",
      "execution_count": null,
      "metadata": {
        "id": "-EUOb6SdYLXh"
      },
      "outputs": [],
      "source": [
        "!pip install --upgrade pip\n",
        "!pip install --upgrade transformers accelerate"
      ]
    },
    {
      "cell_type": "code",
      "source": [
        "import os\n",
        "import torch\n",
        "from google.colab import files\n",
        "from pydub import AudioSegment\n",
        "from pathlib import Path\n",
        "from transformers import pipeline\n"
      ],
      "metadata": {
        "id": "4NCk-GFzaUc8"
      },
      "execution_count": null,
      "outputs": []
    },
    {
      "cell_type": "markdown",
      "source": [
        "## ファイルの準備"
      ],
      "metadata": {
        "id": "D-n6u7DMZA2i"
      }
    },
    {
      "cell_type": "markdown",
      "source": [
        "### ファイルをアップロードする"
      ],
      "metadata": {
        "id": "6yYV9ccNjEz9"
      }
    },
    {
      "cell_type": "code",
      "source": [
        "# ファイルをアップロードする\n",
        "uploaded = files.upload()"
      ],
      "metadata": {
        "id": "_BBBwYd2jEZ7"
      },
      "execution_count": null,
      "outputs": []
    },
    {
      "cell_type": "markdown",
      "source": [
        "### ファイルのパスを取得し，データの形式を整える"
      ],
      "metadata": {
        "id": "Q2PZLDHsjInH"
      }
    },
    {
      "cell_type": "code",
      "source": [
        "# アップロードされたファイルの名前を取得\n",
        "for filename in uploaded.keys():\n",
        "    file_name_without_extension = os.path.splitext(filename)[0]\n",
        "    # フルパスを作成（Colabのカレントディレクトリは'/content'です）\n",
        "    file_path = os.path.join('/content', filename)\n",
        "    print(f\"Uploaded file is saved at: {file_path}\")\n",
        "\n",
        "# ファイルをの形式をwav形式に変更する\n",
        "if not Path(file_path).suffix == \".wav\":\n",
        "    #ファイルの形式を任意のものからwav形式に変更する\n",
        "    audio = AudioSegment.from_file(file_path)\n",
        "    wav_path = f\"/content/{file_name}.wav\"\n",
        "    audio.export(wav_path, format = \"wav\")"
      ],
      "metadata": {
        "id": "X49CpwD9YzT4"
      },
      "execution_count": null,
      "outputs": []
    },
    {
      "cell_type": "code",
      "source": [
        "# ファイルをの形式をwav形式に変更する\n",
        "if not Path(file_path).suffix == \".wav\":\n",
        "    #ファイルの形式を任意のものからwav形式に変更する\n",
        "    audio = AudioSegment.from_file(file_path)\n",
        "    wav_path = f\"/content/{file_name}.wav\"\n",
        "    audio.export(wav_path, format = \"wav\")"
      ],
      "metadata": {
        "id": "sOLZqc50ZY9D"
      },
      "execution_count": null,
      "outputs": []
    },
    {
      "cell_type": "markdown",
      "source": [
        "## 書き起こし"
      ],
      "metadata": {
        "id": "XZgM9Wvhc7zx"
      }
    },
    {
      "cell_type": "markdown",
      "source": [
        "### モデル構築\n",
        "Huggin_Faceのトークンを登録していないとここでエラーが出る"
      ],
      "metadata": {
        "id": "tALBPam3dkLV"
      }
    },
    {
      "cell_type": "code",
      "source": [
        "# config\n",
        "model_id = \"kotoba-tech/kotoba-whisper-v1.0\"\n",
        "torch_dtype = torch.bfloat16 if torch.cuda.is_available() else torch.float32\n",
        "device = \"cuda:0\" if torch.cuda.is_available() else \"cpu\"\n",
        "model_kwargs = {\"attn_implementation\": \"sdpa\"} if torch.cuda.is_available() else {}\n",
        "generate_kwargs = {\"language\": \"ja\", \"task\": \"transcribe\"}\n",
        "\n",
        "# load model\n",
        "pipe = pipeline(\n",
        "    \"automatic-speech-recognition\",\n",
        "    model=model_id,\n",
        "    torch_dtype=torch_dtype,\n",
        "    device=device,\n",
        "    model_kwargs=model_kwargs\n",
        ")"
      ],
      "metadata": {
        "id": "o8wCCQfwc2mt"
      },
      "execution_count": null,
      "outputs": []
    },
    {
      "cell_type": "markdown",
      "source": [
        "### モデルの実行"
      ],
      "metadata": {
        "id": "b-bQEEMii4TK"
      }
    },
    {
      "cell_type": "code",
      "source": [
        "result = pipe(wav_path,return_timestamps=True, generate_kwargs=generate_kwargs)\n",
        "print(result[\"text\"])"
      ],
      "metadata": {
        "id": "APrpBS3mdBdJ"
      },
      "execution_count": null,
      "outputs": []
    },
    {
      "cell_type": "markdown",
      "source": [
        "## データを保存する"
      ],
      "metadata": {
        "id": "ftGgEVTyfEfp"
      }
    },
    {
      "cell_type": "code",
      "source": [
        "#outputフォルダにtxt形式で保存\n",
        "path_output = f'/content/{file_name_without_extension}.txt'\n",
        "with open(path_output, 'w') as f:\n",
        "  f.write(result[\"text\"])"
      ],
      "metadata": {
        "id": "tLYBX35XdyFt"
      },
      "execution_count": null,
      "outputs": []
    }
  ]
}